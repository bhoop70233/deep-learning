{
  "nbformat": 4,
  "nbformat_minor": 0,
  "metadata": {
    "colab": {
      "provenance": []
    },
    "kernelspec": {
      "name": "python3",
      "display_name": "Python 3"
    },
    "language_info": {
      "name": "python"
    }
  },
  "cells": [
    {
      "cell_type": "code",
      "source": [
        "import numpy as np\n",
        "from sklearn.model_selection import train_test_split\n",
        "from sklearn.metrics import accuracy_score\n",
        "from sklearn.datasets import fetch_openml\n",
        "import matplotlib.pyplot as plt\n"
      ],
      "metadata": {
        "id": "qzA3lyvsiG1l"
      },
      "execution_count": 1,
      "outputs": []
    },
    {
      "cell_type": "code",
      "source": [
        "import numpy as np\n",
        "from sklearn.metrics import accuracy_score\n"
      ],
      "metadata": {
        "id": "aNHjGNwhhZjc"
      },
      "execution_count": 1,
      "outputs": []
    },
    {
      "cell_type": "code",
      "source": [
        "class KNNClassifier:\n",
        "    def __init__(self, k=3):\n",
        "        \"\"\"\n",
        "        Initialize the k-Nearest Neighbor classifier.\n",
        "        Parameters:\n",
        "            k: Number of neighbors to consider.\n",
        "        \"\"\"\n",
        "        self.k = k\n",
        "\n",
        "    def fit(self, X_train, y_train):\n",
        "        \"\"\"\n",
        "        Store the training data for later use.\n",
        "        \"\"\"\n",
        "        self.X_train = X_train\n",
        "        self.y_train = y_train\n",
        "\n",
        "    def predict(self, X):\n",
        "        \"\"\"\n",
        "        Predict labels for input samples using the kNN algorithm.\n",
        "        Parameters:\n",
        "            X: Input data to predict labels for.\n",
        "        Returns:\n",
        "            Predicted labels.\n",
        "        \"\"\"\n",
        "        distances = np.sqrt(np.sum((X[:, None] - self.X_train[None, :])**2, axis=2))\n",
        "        neighbors = np.argsort(distances, axis=1)[:, :self.k]\n",
        "        votes = self.y_train[neighbors]\n",
        "        return np.array([np.argmax(np.bincount(v)) for v in votes])\n"
      ],
      "metadata": {
        "id": "gCZR6wEEdVj4"
      },
      "execution_count": 2,
      "outputs": []
    },
    {
      "cell_type": "code",
      "source": [
        "from sklearn.datasets import load_digits\n",
        "from sklearn.model_selection import train_test_split\n",
        "\n",
        "# Load dataset\n",
        "digits = load_digits()\n",
        "X, y = digits.data, digits.target\n",
        "\n",
        "# Normalize data\n",
        "X = X / 255.0\n",
        "\n",
        "# Split into train and test sets\n",
        "X_train, X_test, y_train, y_test = train_test_split(X, y, test_size=0.2, random_state=42)\n"
      ],
      "metadata": {
        "id": "FIWVZ0PQfQ4y"
      },
      "execution_count": 3,
      "outputs": []
    },
    {
      "cell_type": "code",
      "source": [
        "# Initialize kNN with k=5\n",
        "knn = KNNClassifier(k=5)\n",
        "\n",
        "# Fit the model\n",
        "knn.fit(X_train, y_train)\n",
        "\n",
        "# Predict on the test set\n",
        "y_pred = knn.predict(X_test)\n",
        "\n",
        "# Calculate accuracy\n",
        "accuracy = accuracy_score(y_test, y_pred)\n",
        "print(f\"Accuracy of kNN Classifier: {accuracy * 100:.2f}%\")\n"
      ],
      "metadata": {
        "colab": {
          "base_uri": "https://localhost:8080/"
        },
        "id": "AUm5gjTefTTU",
        "outputId": "3a47b859-cbd9-4daa-d7d5-a3de5f0549f7"
      },
      "execution_count": 4,
      "outputs": [
        {
          "output_type": "stream",
          "name": "stdout",
          "text": [
            "Accuracy of kNN Classifier: 98.61%\n"
          ]
        }
      ]
    },
    {
      "cell_type": "code",
      "source": [
        "import matplotlib.pyplot as plt\n",
        "\n",
        "# Visualize predictions\n",
        "n_samples = 10\n",
        "indices = np.random.choice(len(X_test), n_samples, replace=False)\n",
        "\n",
        "plt.figure(figsize=(15, 5))\n",
        "for i, idx in enumerate(indices):\n",
        "    plt.subplot(1, n_samples, i + 1)\n",
        "    plt.imshow(X_test[idx].reshape(8, 8), cmap='gray')\n",
        "    plt.title(f\"Pred: {y_pred[idx]}\")\n",
        "    plt.axis('off')\n",
        "\n",
        "plt.show()\n"
      ],
      "metadata": {
        "colab": {
          "base_uri": "https://localhost:8080/",
          "height": 97
        },
        "id": "Toa559mefVdu",
        "outputId": "130d664f-e48c-4d93-c4ba-531f632dd4dc"
      },
      "execution_count": 5,
      "outputs": [
        {
          "output_type": "display_data",
          "data": {
            "text/plain": [
              "<Figure size 1500x500 with 10 Axes>"
            ],
            "image/png": "[encoded data removed]"
          },
          "metadata": {}
        }
      ]
    },
    {
      "cell_type": "code",
      "source": [],
      "metadata": {
        "id": "4ohAwyTSfYJu"
      },
      "execution_count": null,
      "outputs": []
    }
  ]
}